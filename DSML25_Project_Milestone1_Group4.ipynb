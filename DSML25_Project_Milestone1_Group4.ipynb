{
 "cells": [
  {
   "cell_type": "markdown",
   "id": "90d4f31f",
   "metadata": {},
   "source": [
    "# DSML Team Assignment: Milestone 1 – Group 4  \n",
    "**_Predicting Traffic Volume from Ride-Hailing Trips in Chicago_**\n",
    "\n",
    "*By Louis, Malak, Lena, and Eero*\n"
   ]
  },
  {
   "cell_type": "markdown",
   "id": "d3ae8bfc",
   "metadata": {},
   "source": [
    "---"
   ]
  },
  {
   "cell_type": "markdown",
   "id": "e0af2c85",
   "metadata": {},
   "source": [
    "## 📊 Dataset"
   ]
  },
  {
   "cell_type": "markdown",
   "id": "839d362e",
   "metadata": {},
   "source": [
    "**Transportation Network Providers - Trips (2023–2024):**\n",
    "https://data.cityofchicago.org/Transportation/Transportation-Network-Providers-Trips-2023-2024-/n26f-ihde/explore/query/SELECT%0A%20%20%60trip_id%60%2C%0A%20%20%60trip_start_timestamp%60%2C%0A%20%20%60trip_end_timestamp%60%2C%0A%20%20%60trip_seconds%60%2C%0A%20%20%60trip_miles%60%2C%0A%20%20%60percent_time_chicago%60%2C%0A%20%20%60percent_distance_chicago%60%2C%0A%20%20%60pickup_census_tract%60%2C%0A%20%20%60dropoff_census_tract%60%2C%0A%20%20%60pickup_community_area%60%2C%0A%20%20%60dropoff_community_area%60%2C%0A%20%20%60fare%60%2C%0A%20%20%60tip%60%2C%0A%20%20%60additional_charges%60%2C%0A%20%20%60trip_total%60%2C%0A%20%20%60shared_trip_authorized%60%2C%0A%20%20%60shared_trip_match%60%2C%0A%20%20%60trips_pooled%60%2C%0A%20%20%60pickup_centroid_latitude%60%2C%0A%20%20%60pickup_centroid_longitude%60%2C%0A%20%20%60pickup_centroid_location%60%2C%0A%20%20%60dropoff_centroid_latitude%60%2C%0A%20%20%60dropoff_centroid_longitude%60%2C%0A%20%20%60dropoff_centroid_location%60%0AORDER%20BY%20%60trip_start_timestamp%60%20DESC%20NULL%20FIRST/page/filter"
   ]
  },
  {
   "cell_type": "markdown",
   "id": "e1c814e2",
   "metadata": {},
   "source": [
    "## 🎯 Prediction Task"
   ]
  },
  {
   "cell_type": "markdown",
   "id": "12a9b3c4",
   "metadata": {},
   "source": [
    "We aim to predict **traffic volume** based on individual ride-hailing trips in Chicago, US.\n",
    "\n",
    "Our first approach is deriving this by dividing *trip seconds* by *trip miles*, representing the average duration per mile (higher values indicate greater congestion), thus indicating traffic volume/ defining a proxy for traffic volume.\n",
    "\n",
    "> `traffic_volume_proxy = trip_seconds / trip_miles`\n",
    "\n",
    "We plan on including the following **features**:\n",
    "- hour (extrcating from `trip_start_timestamp`)\n",
    "- day of the week (from `trip_start_timestamp`)\n",
    "- `pickup_community_area`\n",
    "- `dropoff_community_area`\n",
    "- `trip_seconds`\n",
    "- `trip_miles`\n",
    "- `trip_total` (excluding tips)\n",
    "- weather data (optional, using another database)"
   ]
  },
  {
   "cell_type": "markdown",
   "id": "96655854",
   "metadata": {},
   "source": [
    "---"
   ]
  },
  {
   "cell_type": "markdown",
   "id": "99da566b",
   "metadata": {},
   "source": [
    "## Business Understanding"
   ]
  },
  {
   "cell_type": "markdown",
   "id": "6ebe5bb5",
   "metadata": {},
   "source": [
    " Ride-hailing services use mobile apps such as Uber or Lyft to connect passengers to drivers, with the goal of providing fast and cost-effective transportation for users. Furthermore, reducing traffic congestion, lowering emissions, and increasing vehicle utilization are key incentives.\n",
    "\n",
    "In Chicago, transit via bus and rail is on the rise. In 2023, there was a total of 279.1 million rides, marking a 13% increase from 2022. Ride-hailing services have also seen increased adoption, especially in downtown areas. Fees for solo rides have even been implemented in the downtown area during peak times to encourage shared rides.\n",
    "\n",
    "Chicago remains one of the most congested US cities, especially during peak hours. Thus, the city is actively promoting shared mobility options, providing, for example, Divvy Bikes — a city-owned system for renting both bikes and scooters."
   ]
  },
  {
   "cell_type": "markdown",
   "id": "3ecbaff5",
   "metadata": {
    "jp-MarkdownHeadingCollapsed": true
   },
   "source": [
    "## Data Understanding"
   ]
  },
  {
   "cell_type": "markdown",
   "id": "ac70713a",
   "metadata": {},
   "source": [
    "The given dataset provides us with a total of 1,743,696 individual trips, including various features. Below, we will go over each one and evaluate whether the feature will be useful for our prediction task, if we will only include data with a set value, or if it should be excluded during our data preparation."
   ]
  },
  {
   "cell_type": "markdown",
   "id": "8de45fba",
   "metadata": {},
   "source": [
    "- **Trip ID**: Will be included as our primary key.\n",
    "\n",
    "- **Trip Start Time** & **Trip End Time**: Useful to our prediction task. Time is an important factor for traffic volume, which spikes during peak hours.\n",
    "\n",
    "- **Trip Seconds** & **Trip Miles**: Useful to our prediction task. Both are essential to our calculation of traffic volume.\n",
    "\n",
    "- **Percent Time Chicago** & **Percent Distance Chicago**: Only trips with 100% will be included. Trips with routes outside of Chicago do not fit our prediction task of modeling traffic volume *in Chicago*.\n",
    "\n",
    "- **Pickup Census Tract** & **Dropoff Census Tract**: Will be excluded. Compared to Pickup Community Area and Dropoff Community Area — which represent 77 large zones in Chicago — Census Tract identifies over 800 smaller zones. While more specific, they run a higher risk of missing data and reduce the likelihood of trips being comparable to each other.\n",
    "\n",
    "- **Pickup Community Area** & **Dropoff Community Area**: Useful for our prediction task. Traffic volume varies by location, and these provide a robust feature for space.\n",
    "\n",
    "- **Fare, Tip, Additional Charges, and Trip Total**: We will use trip total excluding tips, as this serves as an indicator of traffic congestion due to dynamic pricing used by apps such as Uber or Lyft. Only data with no tips will be used, as tipping is subjective and influenced by user generosity, culture, and driver service quality.\n",
    "\n",
    "- **Shared Trips Authorized, Shared Trips Match, and Trips Pooled**: Only data from trips that were not shared will be used, as trips stopping for other passengers would impact trip seconds without being a clear indication of traffic volume.\n",
    "\n",
    "- **Latitude, Longitude, and Location Coordinates**: Will be excluded for the same reasons as Census Tract — too specific and less useful for comparison for the prediction task."
   ]
  },
  {
   "cell_type": "markdown",
   "id": "6300d8f5",
   "metadata": {},
   "source": [
    "---"
   ]
  },
  {
   "cell_type": "markdown",
   "id": "c8df9b36",
   "metadata": {},
   "source": [
    "## Data Preparation"
   ]
  },
  {
   "cell_type": "markdown",
   "id": "0aa3bb31",
   "metadata": {},
   "source": [
    "We filtered the raw data according to our data requirements stated above via the Chicago Data Portal and ended up with 32,752,518 individual trips.\n",
    "\n",
    "To reduce the data while preserving trips from different timeframes throughout 2023–2024, we initially considered to apply another filter base on the Trip ID — for example, including every trip containing \"197.\" After discussion, we concluded this approach could introduce bias. We decided on downloading all rows and afterwards reducing the data to every 100th entry via a Python script. The script was written by ChatGPT.\n",
    "\n",
    "We now have 327,526 individual trips to work with, fulfilling the condition of at least 100,000 rows in the raw data. With 77 different area codes — each for pickup and dropoff — this results in an average of approximately 55 identical trips per unique pickup–dropoff area code combination.\n",
    "\n",
    "After exporting, we will clean the data before moving on to modeling."
   ]
  },
  {
   "cell_type": "code",
   "execution_count": 1,
   "id": "4541bcb9",
   "metadata": {},
   "outputs": [],
   "source": [
    "import pandas as pd\n",
    "\n",
    "rds = pd.read_csv(\"Ridehailing_Chicago_sample327k.csv\")"
   ]
  },
  {
   "cell_type": "markdown",
   "id": "6e3f1656",
   "metadata": {},
   "source": [
    "We want to check if the following filters were applied accordingly:\n",
    "\n",
    "- 100% of the trip was driven in Chicago\n",
    "- No tip\n",
    "- No shared driving"
   ]
  },
  {
   "cell_type": "code",
   "execution_count": 2,
   "id": "9800f552-11c6-4417-8fdb-86e494fc86e4",
   "metadata": {},
   "outputs": [
    {
     "name": "stdout",
     "output_type": "stream",
     "text": [
      "All rows match filters: True\n"
     ]
    }
   ],
   "source": [
    "rds['percent_time_chicago'] = rds['percent_time_chicago'].astype(str)\n",
    "rds['percent_distance_chicago'] = rds['percent_distance_chicago'].astype(str)\n",
    "\n",
    "all_conditions_met = (\n",
    "    (rds['shared_trip_match'] == False) &\n",
    "    (rds['shared_trip_authorized'] == False) &\n",
    "    (rds['tip'] == 0) &\n",
    "    (rds['percent_time_chicago'] == '1') &\n",
    "    (rds['percent_distance_chicago'] == '1')\n",
    ")\n",
    "\n",
    "print(\"All rows match filters:\", all_conditions_met.all())"
   ]
  },
  {
   "cell_type": "code",
   "execution_count": null,
   "id": "0bd15c45",
   "metadata": {
    "scrolled": true
   },
   "outputs": [],
   "source": [
    "import pandas as pd\n",
    "import requests\n",
    "import time\n",
    "from io import StringIO\n",
    "\n",
    "# API-URL und Filter\n",
    "base_url = \"https://data.cityofchicago.org/resource/n26f-ihde.csv\"\n",
    "params_base = {\n",
    "    \"$where\": \"percent_time_chicago = 1 AND percent_distance_chicago = 1 AND tip = 0 AND shared_trip_authorized = false AND shared_trip_match = false\",\n",
    "    \"$limit\": 1000000\n",
    "}\n",
    "\n",
    "dfs = []\n",
    "num_blocks = 34\n",
    "\n",
    "for i in range(num_blocks):\n",
    "    offset = i * 1_000_000\n",
    "    params = params_base.copy()\n",
    "    params[\"$offset\"] = offset\n",
    "    print(f\"[{i+1}/{num_blocks}] Lade Daten ab Offset {offset:,} ...\")\n",
    "\n",
    "    try:\n",
    "        response = requests.get(base_url, params=params)\n",
    "        response.raise_for_status()\n",
    "        \n",
    "        # Inhalt prüfen\n",
    "        if len(response.text.strip()) == 0:\n",
    "            print(f\"⚠️  Keine Daten empfangen bei Block {i+1}.\")\n",
    "            break\n",
    "        \n",
    "        chunk = pd.read_csv(StringIO(response.text))\n",
    "        dfs.append(chunk)\n",
    "        print(f\"✅ {len(chunk):,} Zeilen geladen.\")\n",
    "        time.sleep(1)\n",
    "\n",
    "    except Exception as e:\n",
    "        print(f\"❌ Fehler bei Block {i+1}: {e}\")\n",
    "        print(\"Inhalt der Antwort:\")\n",
    "        print(response.text[:1000])  # Nur die ersten 1000 Zeichen zeigen\n",
    "        break\n",
    "\n",
    "# Nur fortfahren, wenn Daten vorhanden\n",
    "if dfs:\n",
    "    print(\"🔄 Zusammenführen der Blöcke ...\")\n",
    "    full_df = pd.concat(dfs, ignore_index=True)\n",
    "\n",
    "    print(\"🔃 Sortiere nach trip_start_timestamp ...\")\n",
    "    full_df['trip_start_timestamp'] = pd.to_datetime(full_df['trip_start_timestamp'], errors='coerce')\n",
    "    full_df = full_df.dropna(subset=['trip_start_timestamp'])\n",
    "    full_df = full_df.sort_values(by='trip_start_timestamp')\n",
    "\n",
    "    print(\"📊 Ziehe jede 100. Zeile ...\")\n",
    "    sample_df = full_df.iloc[::100]\n",
    "\n",
    "    print(f\"💾 Speichere Datei mit {len(sample_df):,} Zeilen ...\")\n",
    "    sample_df.to_csv(\"Ridehailing_Chicago_sample327k.csv\", index=False)\n",
    "    print(\"✅ Fertig!\")\n",
    "else:\n",
    "    print(\"❌ Keine Daten zum Verarbeiten.\")\n"
   ]
  },
  {
   "cell_type": "markdown",
   "id": "e88b0fa4",
   "metadata": {},
   "source": [
    "Nice!"
   ]
  },
  {
   "cell_type": "markdown",
   "id": "8466eeb8",
   "metadata": {},
   "source": []
  }
 ],
 "metadata": {
  "kernelspec": {
   "display_name": "Python 3 (ipykernel)",
   "language": "python",
   "name": "python3"
  },
  "language_info": {
   "codemirror_mode": {
    "name": "ipython",
    "version": 3
   },
   "file_extension": ".py",
   "mimetype": "text/x-python",
   "name": "python",
   "nbconvert_exporter": "python",
   "pygments_lexer": "ipython3",
   "version": "3.13.2"
  }
 },
 "nbformat": 4,
 "nbformat_minor": 5
}
