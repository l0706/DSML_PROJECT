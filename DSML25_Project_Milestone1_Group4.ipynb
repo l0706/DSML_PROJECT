{
 "cells": [
  {
   "cell_type": "markdown",
   "id": "90d4f31f",
   "metadata": {},
   "source": [
    "# DSML Team Assignment: Milestone 1 – Group 4  \n",
    "**_Predicting Traffic Volume from Ride-Hailing Trips in Chicago_**\n",
    "\n",
    "*By Louis, Malak, Lena, and Eero*\n"
   ]
  },
  {
   "cell_type": "markdown",
   "id": "d3ae8bfc",
   "metadata": {},
   "source": [
    "---"
   ]
  },
  {
   "cell_type": "markdown",
   "id": "e0af2c85",
   "metadata": {},
   "source": [
    "## Dataset"
   ]
  },
  {
   "cell_type": "markdown",
   "id": "839d362e",
   "metadata": {},
   "source": [
    "**Transportation Network Providers - Trips (2023–2024):**\n",
    "https://data.cityofchicago.org/Transportation/Transportation-Network-Providers-Trips-2023-2024-/n26f-ihde/explore/query/SELECT%0A%20%20%60trip_id%60%2C%0A%20%20%60trip_start_timestamp%60%2C%0A%20%20%60trip_end_timestamp%60%2C%0A%20%20%60trip_seconds%60%2C%0A%20%20%60trip_miles%60%2C%0A%20%20%60percent_time_chicago%60%2C%0A%20%20%60percent_distance_chicago%60%2C%0A%20%20%60pickup_census_tract%60%2C%0A%20%20%60dropoff_census_tract%60%2C%0A%20%20%60pickup_community_area%60%2C%0A%20%20%60dropoff_community_area%60%2C%0A%20%20%60fare%60%2C%0A%20%20%60tip%60%2C%0A%20%20%60additional_charges%60%2C%0A%20%20%60trip_total%60%2C%0A%20%20%60shared_trip_authorized%60%2C%0A%20%20%60shared_trip_match%60%2C%0A%20%20%60trips_pooled%60%2C%0A%20%20%60pickup_centroid_latitude%60%2C%0A%20%20%60pickup_centroid_longitude%60%2C%0A%20%20%60pickup_centroid_location%60%2C%0A%20%20%60dropoff_centroid_latitude%60%2C%0A%20%20%60dropoff_centroid_longitude%60%2C%0A%20%20%60dropoff_centroid_location%60%0AORDER%20BY%20%60trip_start_timestamp%60%20DESC%20NULL%20FIRST/page/filter"
   ]
  },
  {
   "cell_type": "markdown",
   "id": "e1c814e2",
   "metadata": {},
   "source": [
    "## 🎯 Prediction Task"
   ]
  },
  {
   "cell_type": "markdown",
   "id": "12a9b3c4",
   "metadata": {},
   "source": [
    "We aim to predict **traffic volume** based on individual ride-hailing trips in Chicago, US.\n",
    "\n",
    "Our first approach is deriving this by dividing *trip seconds* by *trip miles*, representing the average duration per mile (higher values indicate greater congestion), thus indicating traffic volume/ defining a proxy for traffic volume.\n",
    "\n",
    "> `traffic_volume_proxy = trip_seconds / trip_miles`\n",
    "\n",
    "We plan on including the following **features**:\n",
    "- hour (extrcating from `trip_start_timestamp`)\n",
    "- day of the week (from `trip_start_timestamp`)\n",
    "- `pickup_community_area`\n",
    "- `dropoff_community_area`\n",
    "- `trip_seconds`\n",
    "- `trip_miles`\n",
    "- `trip_total` (excluding tips)\n",
    "- weather data (optional, using another database)"
   ]
  },
  {
   "cell_type": "markdown",
   "id": "96655854",
   "metadata": {},
   "source": [
    "---"
   ]
  },
  {
   "cell_type": "markdown",
   "id": "99da566b",
   "metadata": {},
   "source": [
    "## Business Understanding"
   ]
  },
  {
   "cell_type": "markdown",
   "id": "6ebe5bb5",
   "metadata": {},
   "source": [
    " Ride-hailing services use mobile apps such as Uber or Lyft to connect passengers to drivers, with the goal of providing fast and cost-effective transportation for users. Furthermore, reducing traffic congestion, lowering emissions, and increasing vehicle utilization are key incentives.\n",
    "\n",
    "In Chicago, transit via bus and rail is on the rise. In 2023, there was a total of 279.1 million rides, marking a 13% increase from 2022. Ride-hailing services have also seen increased adoption, especially in downtown areas. Fees for solo rides have even been implemented in the downtown area during peak times to encourage shared rides.\n",
    "\n",
    "Chicago remains one of the most congested US cities, especially during peak hours. Thus, the city is actively promoting shared mobility options, providing, for example, Divvy Bikes — a city-owned system for renting both bikes and scooters."
   ]
  },
  {
   "cell_type": "markdown",
   "id": "3ecbaff5",
   "metadata": {},
   "source": [
    "## Data Understanding"
   ]
  },
  {
   "cell_type": "markdown",
   "id": "ac70713a",
   "metadata": {},
   "source": [
    "The given dataset provides us with a total of 1,743,696 individual trips, including various features. Below, we will go over each one and evaluate whether the feature will be useful for our prediction task, if we will only include data with a set value, or if it should be excluded during our data preparation."
   ]
  },
  {
   "cell_type": "markdown",
   "id": "8de45fba",
   "metadata": {},
   "source": [
    "- **Trip ID**: Will be included as our primary key.\n",
    "\n",
    "- **Trip Start Time** & **Trip End Time**: Useful to our prediction task. Time is an important factor for traffic volume, which spikes during peak hours.\n",
    "\n",
    "- **Trip Seconds** & **Trip Miles**: Useful to our prediction task. Both are essential to our calculation of traffic volume.\n",
    "\n",
    "- **Percent Time Chicago** & **Percent Distance Chicago**: Only trips with 100% will be included. Trips with routes outside of Chicago do not fit our prediction task of modeling traffic volume *in Chicago*.\n",
    "\n",
    "- **Pickup Census Tract** & **Dropoff Census Tract**: Will be excluded. Compared to Pickup Community Area and Dropoff Community Area — which represent 77 large zones in Chicago — Census Tract identifies over 800 smaller zones. While more specific, they run a higher risk of missing data and reduce the likelihood of trips being comparable to each other.\n",
    "\n",
    "- **Pickup Community Area** & **Dropoff Community Area**: Useful for our prediction task. Traffic volume varies by location, and these provide a robust feature for space.\n",
    "\n",
    "- **Fare, Tip, Additional Charges, and Trip Total**: We will use trip total excluding tips, as this serves as an indicator of traffic congestion due to dynamic pricing used by apps such as Uber or Lyft. Only data with no tips will be used, as tipping is subjective and influenced by user generosity, culture, and driver service quality.\n",
    "\n",
    "- **Shared Trips Authorized, Shared Trips Match, and Trips Pooled**: Only data from trips that were not shared will be used, as trips stopping for other passengers would impact trip seconds without being a clear indication of traffic volume.\n",
    "\n",
    "- **Latitude, Longitude, and Location Coordinates**: Will be excluded for the same reasons as Census Tract — too specific and less useful for comparison for the prediction task."
   ]
  },
  {
   "cell_type": "markdown",
   "id": "6300d8f5",
   "metadata": {},
   "source": [
    "---"
   ]
  },
  {
   "cell_type": "markdown",
   "id": "c8df9b36",
   "metadata": {},
   "source": [
    "## Data Preparation"
   ]
  },
  {
   "cell_type": "markdown",
   "id": "0aa3bb31",
   "metadata": {},
   "source": [
    "We filtered the raw data according to our data requirements stated above via the Chicago Data Portal and ended up with 32,752,518 individual trips.\n",
    "\n",
    "To reduce the data while preserving trips from different timeframes throughout 2023–2024, we initially considered to apply another filter base on the Trip ID — for example, including every trip containing \"197.\" After discussion, we concluded this approach could introduce bias. We decided on downloading all rows and afterwards reducing the data to every 100th entry via a Python script. The script was written by ChatGPT.\n",
    "\n",
    "We now have 327,526 individual trips to work with, fulfilling the condition of at least 100,000 rows in the raw data. With 77 different area codes — each for pickup and dropoff — this results in an average of approximately 55 identical trips per unique pickup–dropoff area code combination.\n",
    "\n",
    "After exporting, we will clean the data before moving on to modeling."
   ]
  },
  {
   "cell_type": "code",
   "execution_count": 3,
   "id": "4541bcb9",
   "metadata": {},
   "outputs": [],
   "source": [
    "import pandas as pd\n",
    "\n",
    "rds = pd.read_csv(\"Ridehailing_Chicago_sample327k.csv\")"
   ]
  },
  {
   "cell_type": "markdown",
   "id": "6e3f1656",
   "metadata": {},
   "source": [
    "We want to check if the following filters were applied accordingly:\n",
    "\n",
    "- 100% of the trip was driven in Chicago\n",
    "- No tip\n",
    "- No shared driving"
   ]
  },
  {
   "cell_type": "code",
   "execution_count": 4,
   "id": "9800f552-11c6-4417-8fdb-86e494fc86e4",
   "metadata": {},
   "outputs": [
    {
     "name": "stdout",
     "output_type": "stream",
     "text": [
      "All rows match filters: True\n"
     ]
    }
   ],
   "source": [
    "rds['percent_time_chicago'] = rds['percent_time_chicago'].astype(str)\n",
    "rds['percent_distance_chicago'] = rds['percent_distance_chicago'].astype(str)\n",
    "\n",
    "all_conditions_met = (\n",
    "    (rds['shared_trip_match'] == False) &\n",
    "    (rds['shared_trip_authorized'] == False) &\n",
    "    (rds['tip'] == 0) &\n",
    "    (rds['percent_time_chicago'] == '1') &\n",
    "    (rds['percent_distance_chicago'] == '1')\n",
    ")\n",
    "\n",
    "print(\"All rows match filters:\", all_conditions_met.all())"
   ]
  },
  {
   "cell_type": "code",
   "execution_count": null,
   "id": "0bd15c45",
   "metadata": {
    "scrolled": true
   },
   "outputs": [],
   "source": [
    "import pandas as pd\n",
    "import requests\n",
    "import time\n",
    "from io import StringIO\n",
    "\n",
    "# API-URL und Filter\n",
    "base_url = \"https://data.cityofchicago.org/resource/n26f-ihde.csv\"\n",
    "params_base = {\n",
    "    \"$where\": \"percent_time_chicago = 1 AND percent_distance_chicago = 1 AND tip = 0 AND shared_trip_authorized = false AND shared_trip_match = false\",\n",
    "    \"$limit\": 1000000\n",
    "}\n",
    "\n",
    "dfs = []\n",
    "num_blocks = 34\n",
    "\n",
    "for i in range(num_blocks):\n",
    "    offset = i * 1_000_000\n",
    "    params = params_base.copy()\n",
    "    params[\"$offset\"] = offset\n",
    "    print(f\"[{i+1}/{num_blocks}] Lade Daten ab Offset {offset:,} ...\")\n",
    "\n",
    "    try:\n",
    "        response = requests.get(base_url, params=params)\n",
    "        response.raise_for_status()\n",
    "        \n",
    "        # Inhalt prüfen\n",
    "        if len(response.text.strip()) == 0:\n",
    "            print(f\"⚠️  Keine Daten empfangen bei Block {i+1}.\")\n",
    "            break\n",
    "        \n",
    "        chunk = pd.read_csv(StringIO(response.text))\n",
    "        dfs.append(chunk)\n",
    "        print(f\"✅ {len(chunk):,} Zeilen geladen.\")\n",
    "        time.sleep(1)\n",
    "\n",
    "    except Exception as e:\n",
    "        print(f\"❌ Fehler bei Block {i+1}: {e}\")\n",
    "        print(\"Inhalt der Antwort:\")\n",
    "        print(response.text[:1000])  # Nur die ersten 1000 Zeichen zeigen\n",
    "        break\n",
    "\n",
    "# Nur fortfahren, wenn Daten vorhanden\n",
    "if dfs:\n",
    "    print(\"🔄 Zusammenführen der Blöcke ...\")\n",
    "    full_df = pd.concat(dfs, ignore_index=True)\n",
    "\n",
    "    print(\"🔃 Sortiere nach trip_start_timestamp ...\")\n",
    "    full_df['trip_start_timestamp'] = pd.to_datetime(full_df['trip_start_timestamp'], errors='coerce')\n",
    "    full_df = full_df.dropna(subset=['trip_start_timestamp'])\n",
    "    full_df = full_df.sort_values(by='trip_start_timestamp')\n",
    "\n",
    "    print(\"📊 Ziehe jede 100. Zeile ...\")\n",
    "    sample_df = full_df.iloc[::100]\n",
    "\n",
    "    print(f\"💾 Speichere Datei mit {len(sample_df):,} Zeilen ...\")\n",
    "    sample_df.to_csv(\"Ridehailing_Chicago_sample327k.csv\", index=False)\n",
    "    print(\"✅ Fertig!\")\n",
    "else:\n",
    "    print(\"❌ Keine Daten zum Verarbeiten.\")\n"
   ]
  },
  {
   "cell_type": "markdown",
   "id": "e88b0fa4",
   "metadata": {},
   "source": [
    "Nice!"
   ]
  },
  {
   "cell_type": "markdown",
   "id": "8466eeb8",
   "metadata": {},
   "source": [
    "---"
   ]
  },
  {
   "cell_type": "markdown",
   "id": "7b7fd710",
   "metadata": {},
   "source": [
    "## Data Exploration"
   ]
  },
  {
   "cell_type": "markdown",
   "id": "b075000f",
   "metadata": {},
   "source": [
    "After Business Understanding and Data Understanding and Preparation and before modeling or visualizing, we start by exploring key aspects of the dataset to understand patterns and context, e.g. …\n",
    "\n",
    "- At what hour do most trips start?\n",
    "- On which day of the week are most trips taken?\n",
    "- What is the average traffic volume across all trips?\n"
   ]
  },
  {
   "cell_type": "code",
   "execution_count": null,
   "id": "d9d77006",
   "metadata": {},
   "outputs": [],
   "source": [
    "df = pd.read_csv(\"Ridehailing_Chicago_sample327k.csv\")\n",
    "\n",
    "# Compute traffic volume\n",
    "df = df[(df['trip_miles'] > 0) & (df['trip_seconds'] > 0)]\n",
    "df['traffic_volume'] = df['trip_seconds'] / df['trip_miles']\n",
    "\n",
    "# Convert the trip start times into datetime format\n",
    "df['trip_start_timestamp'] = pd.to_datetime(df['trip_start_timestamp'], errors='coerce')\n",
    "df['hour'] = df['trip_start_timestamp'].dt.hour\n",
    "df['day_of_week'] = df['trip_start_timestamp'].dt.dayofweek\n",
    "\n",
    "# 1. Hour with most trips\n",
    "hour_counts = df['hour'].value_counts().sort_index()\n",
    "peak_hour = hour_counts.idxmax()\n",
    "print(f\"🔸 Most trips start at {peak_hour}:00 with {hour_counts[peak_hour]:,} trips.\")\n",
    "\n",
    "# 2. Day with most trips\n",
    "day_counts = df['day_of_week'].value_counts().sort_index()\n",
    "day_names = ['Monday', 'Tuesday', 'Wednesday', 'Thursday', 'Friday', 'Saturday', 'Sunday']\n",
    "peak_day_index = day_counts.idxmax()\n",
    "print(f\"🔸 Most trips happen on {day_names[peak_day_index]} with {day_counts[peak_day_index]:,} trips.\")\n",
    "\n",
    "# 3. Average traffic volume\n",
    "avg_traffic = df['traffic_volume'].mean()\n",
    "print(f\"🔸 The average traffic volume is {avg_traffic:.2f} seconds per mile.\")"
   ]
  },
  {
   "cell_type": "markdown",
   "id": "148869f5",
   "metadata": {},
   "source": [
    "---"
   ]
  },
  {
   "cell_type": "markdown",
   "id": "054c1672",
   "metadata": {},
   "source": [
    "## Data Visualization"
   ]
  },
  {
   "cell_type": "code",
   "execution_count": null,
   "id": "49e49a09-d8ad-4bec-8a75-6e548bbf7b87",
   "metadata": {},
   "outputs": [],
   "source": [
    "import matplotlib.pyplot as plt\n",
    "import seaborn as sns"
   ]
  },
  {
   "cell_type": "code",
   "execution_count": 12,
   "id": "188fcf4b-81b3-4352-9912-43cf899d6093",
   "metadata": {},
   "outputs": [],
   "source": [
    "# Load data\n",
    "df = pd.read_csv(\"Ridehailing_Chicago_sample327k.csv\")\n",
    "\n",
    "# Create target\n",
    "df = df[(df['trip_miles'] > 0) & (df['trip_seconds'] > 0)]\n",
    "df['traffic_volume'] = df['trip_seconds'] / df['trip_miles']"
   ]
  },
  {
   "cell_type": "markdown",
   "id": "7b410f9e-b0b4-4ea0-9542-fb5f45ff2a35",
   "metadata": {},
   "source": [
    "### Trip Volume by Hour and Weekday\n",
    "\n",
    "First, let us try to look at how the trip volume changes over the course of an average day and week"
   ]
  },
  {
   "cell_type": "code",
   "execution_count": null,
   "id": "da43e6c3",
   "metadata": {},
   "outputs": [
    {
     "data": {
      "image/png": "[encoded data removed]",
      "text/plain": [
       "<Figure size 1600x600 with 2 Axes>"
      ]
     },
     "metadata": {},
     "output_type": "display_data"
    }
   ],
   "source": [
    "# Transform trip start times into datetime format\n",
    "df['trip_start_timestamp'] = pd.to_datetime(df['trip_start_timestamp'], errors='coerce')\n",
    "df['hour'] = df['trip_start_timestamp'].dt.hour\n",
    "df['day_of_week'] = df['trip_start_timestamp'].dt.dayofweek\n",
    "day_names = ['Mon', 'Tue', 'Wed', 'Thu', 'Fri', 'Sat', 'Sun']\n",
    "\n",
    "# Subplots\n",
    "fig, axes = plt.subplots(1, 2, figsize=(16, 6))\n",
    "\n",
    "# Plot 1: Trips by Hour\n",
    "sns.countplot(ax=axes[0], x='hour', data=df, hue='hour', palette='viridis', legend=False)\n",
    "axes[0].set_title('Number of Trips by Hour of Day')\n",
    "axes[0].set_xlabel('Hour of Day')\n",
    "axes[0].set_ylabel('Number of Trips')\n",
    "\n",
    "# Plot 2: Trips by Day of Week\n",
    "sns.countplot(ax=axes[1], x='day_of_week', data=df, hue='day_of_week', palette='coolwarm', legend=False)\n",
    "axes[1].set_title('Number of Trips by Day of Week')\n",
    "axes[1].set_xlabel('Day of Week')\n",
    "axes[1].set_ylabel('Number of Trips')\n",
    "axes[1].set_xticks(range(7))\n",
    "axes[1].set_xticklabels(day_names)\n",
    "\n",
    "plt.tight_layout()\n",
    "plt.show()"
   ]
  }
 ],
 "metadata": {
  "kernelspec": {
   "display_name": "Python 3 (ipykernel)",
   "language": "python",
   "name": "python3"
  },
  "language_info": {
   "codemirror_mode": {
    "name": "ipython",
    "version": 3
   },
   "file_extension": ".py",
   "mimetype": "text/x-python",
   "name": "python",
   "nbconvert_exporter": "python",
   "pygments_lexer": "ipython3",
   "version": "3.13.2"
  }
 },
 "nbformat": 4,
 "nbformat_minor": 5
}
